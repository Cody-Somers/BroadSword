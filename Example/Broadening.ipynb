{
 "cells": [
  {
   "cell_type": "code",
   "execution_count": null,
   "id": "f42db80f",
   "metadata": {},
   "outputs": [],
   "source": [
    "# Specify the base directory for the location of the data files\n",
    "# Or put the path name directly into the functions below\n",
    "basedir = '.'\n",
    "# basedir = \"/Users/cas003/Downloads/Beamtime/DataFiles\"\n",
    "\n",
    "## Setup necessary inputs\n",
    "from BroadSword.BroadSword import *\n",
    "from bokeh.io import output_notebook\n",
    "output_notebook(hide_banner=True)"
   ]
  },
  {
   "cell_type": "code",
   "execution_count": null,
   "id": "ba0f1914",
   "metadata": {},
   "outputs": [],
   "source": [
    "# Create an instance of the class\n",
    "broad = Broaden()\n",
    "\n",
    "# Load the experimental and calculations\n",
    "broad.loadExp(basedir,XES=\"N_test_XES.txt\",XANES=\"XAS_Fe_Nitrogen.csv\",GS_fermi=0.44996547,headerlines=[2,2])\n",
    "broad.loadCalc(basedir,XES=\"N1_emis.txspec\",XAS=\"N1_abs.txspec\",GS_bindingEnergy=27.176237,XANES=\"N1_half.txspec\",ES_fermi=0.45062079,sites=1,edge=\"L2\",headerlines=[0,0,0]) \n",
    "broad.loadCalc(basedir,XES=\"N2_emis.txspec\",XAS=\"N2_abs.txspec\",GS_bindingEnergy=27.177975,XANES=\"N2_half.txspec\",ES_fermi=0.45091878)\n",
    "broad.loadCalc(basedir,XES=\"N3_emis.txspec\",XAS=\"N3_abs.txspec\",GS_bindingEnergy=27.122234,XANES=\"N3_half.txspec\",ES_fermi=0.45090808)\n",
    "broad.loadCalc(basedir,XES=\"N4_emis.txspec\",XAS=\"N4_abs.txspec\",GS_bindingEnergy=27.177070,XANES=\"N4_half.txspec\",ES_fermi=0.45088602)\n",
    "# broad.loadCalc(basedir,XES=\"N1_emis.txspec\",XAS=\"N1_abs.txspec\",GS_bindingEnergy=27.177070) # Minimum required inputs to broaden a spectra.\n",
    "\n",
    "# Initialize the broadening parameters\n",
    "broad.initResolution(corelifetime=0.15,specResolution=1200,monoResolution=5000,disorder=0.5,XESscaling=0.5,XASscaling=0.5)\n",
    "# Shift the spectra until the calculation aligns with the experimental\n",
    "broad.Shift(XESshift=19.2,XASshift=20.2,separate=False)\n",
    "# Broaden the spectra\n",
    "broad.broaden(separate=False)\n",
    "# Export the broadened calculated spectra\n",
    "# broad.export(filename=\"GeP2N4\",element=\"N\",individual=False)\n",
    "\n",
    "# Optionally you can scale and shift specific bands in XES. Use printBands() to determine where the bands are located.\n",
    "# Then add the new argument XESbandScaling into initResolution() and XESbandshift int Shift()\n",
    "#broad.printBands()\n",
    "#broad.initResolution(corelifetime=0.15,specResolution=1200,monoResolution=5000,disorder=0.5,XESscaling=0.5,XASscaling=0.5,XESbandScaling=[[0.1,0.2,0.2,0.4],[0.2,0.2,0.4,0.2],[0.3,0.2,0.1,0.5],[0.3,0.5,0.4,0.2]])\n",
    "#broad.Shift(XESshift=19.2,XASshift=20.2,separate=False,XESbandshift=[[30,33,30,20],[15,19.2,19.2,19.2],[30,33,30,20],[15,19.2,19.2,19.2]])\n",
    "#broad.broaden(separate=False)"
   ]
  }
 ],
 "metadata": {
  "kernelspec": {
   "display_name": "Python 3 (ipykernel)",
   "language": "python",
   "name": "python3"
  },
  "language_info": {
   "codemirror_mode": {
    "name": "ipython",
    "version": 3
   },
   "file_extension": ".py",
   "mimetype": "text/x-python",
   "name": "python",
   "nbconvert_exporter": "python",
   "pygments_lexer": "ipython3",
   "version": "3.9.7"
  }
 },
 "nbformat": 4,
 "nbformat_minor": 5
}
