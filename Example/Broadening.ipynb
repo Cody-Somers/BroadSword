{
 "cells": [
  {
   "cell_type": "code",
   "execution_count": null,
   "id": "ca093fcc",
   "metadata": {},
   "outputs": [],
   "source": [
    "# Specify the base directory for the location of the data files\n",
    "# Or put the path name directly into the functions below\n",
    "basedir = '.'\n",
    "# basedir = \"/Users/cas003/Downloads/Beamtime/DataFiles\"\n",
    "\n",
    "## Setup necessary inputs\n",
    "from BroadSword.BroadSword import *\n",
    "from bokeh.io import output_notebook\n",
    "output_notebook(hide_banner=True)"
   ]
  },
  {
   "cell_type": "code",
   "execution_count": null,
   "id": "614a555e",
   "metadata": {},
   "outputs": [],
   "source": [
    "# Create an instance of the class\n",
    "broad = Broaden()\n",
    "\n",
    "# Load the experimental and calculations\n",
    "broad.loadExp(basedir,\"N_test_XES.txt\",\"N_test_XAS.txt\",fermi=0.44996547)\n",
    "broad.loadCalc(basedir,\"N1_emis.txspec\",\"N1_abs.txspec\",\"N1_half.txspec\",fermis=0.45062079,binds=27.176237)\n",
    "broad.loadCalc(\".\",\"N2_emis.txspec\",\"N2_abs.txspec\",\"N2_half.txspec\",fermis=0.45091878,binds=27.177975)\n",
    "broad.loadCalc(\".\",\"N3_emis.txspec\",\"N3_abs.txspec\",\"N3_half.txspec\",fermis=0.45090808,binds=27.122234,sites=1.245)\n",
    "broad.loadCalc(\".\",\"N4_emis.txspec\",\"N4_abs.txspec\",\"N4_half.txspec\",fermis=0.45088602,binds=27.177070,edge=\"L2\")\n",
    "\n",
    "# Initialize the broadening parameters\n",
    "broad.initResolution(corelifetime=0.15,specResolution=1200,monoResolution=5000,disorder=0.5,XESscaling=0.5,XASscaling=0.5)\n",
    "# Optionally you can scale specific bands in XEN. Use printBands() to determine where the bands are located.\n",
    "# Then add the new argument XESbandScaling into initResolution()\n",
    "# broad.printBands()\n",
    "# XESbandScaling=[[0.1,0.2,0.2,0.4],[0.2,0.2,0.4,0.2],[0.3,0.2,0.1,0.5],[0.3,0.5,0.4,0.2]])\n",
    "\n",
    "# Shift the spectra until the calculation aligns with the experimental\n",
    "broad.Shift(XESshift=19.2,XASshift=20.2)\n",
    "# Optionally you can shift specific bands in XES.\n",
    "# Add the new argument into Shift()\n",
    "# XESbandshift=[[30,33,30,20],[15,19.2,19.2,19.2],[30,33,30,20],[15,19.2,19.2,19.2]])\n",
    "\n",
    "# Broaden the spectra\n",
    "broad.broaden(\"/Users/cas003/opt/anaconda3/lib/python3.9/site-packages/BroadSword/\")\n",
    "\n",
    "# Export the broadened calculated spectra\n",
    "# broad.export(\"Nitrogen\")"
   ]
  }
 ],
 "metadata": {
  "kernelspec": {
   "display_name": "Python 3 (ipykernel)",
   "language": "python",
   "name": "python3"
  },
  "language_info": {
   "codemirror_mode": {
    "name": "ipython",
    "version": 3
   },
   "file_extension": ".py",
   "mimetype": "text/x-python",
   "name": "python",
   "nbconvert_exporter": "python",
   "pygments_lexer": "ipython3",
   "version": "3.9.7"
  }
 },
 "nbformat": 4,
 "nbformat_minor": 5
}
